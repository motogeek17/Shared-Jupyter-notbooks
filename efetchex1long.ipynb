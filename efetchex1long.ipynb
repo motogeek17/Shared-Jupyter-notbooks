{
 "cells": [
  {
   "cell_type": "code",
   "execution_count": 2,
   "id": "09f25b08-ae8d-4e1a-87c2-3736b3613513",
   "metadata": {},
   "outputs": [
    {
     "name": "stdout",
     "output_type": "stream",
     "text": [
      "File saved: queries/P01349.fsa\n",
      "File saved: fasta/nurse-shark-proteins.fsa\n",
      ">sp|P01349.2|RELX_CARTA RecName: Full=Relaxin; Contains: RecName: Full=Relaxin B chain; Contains: RecName: Full=Relaxin A chain\n",
      "QLCGRGFIRAIIFACGGSRWATSPAMSIKCCIYGCTKKDISVLC\n",
      "\n",
      "\n"
     ]
    }
   ],
   "source": [
    "from Bio import Entrez\n",
    "from Bio import SeqIO\n",
    "import os\n",
    "\n",
    "# Set your email for NCBI's usage policy (MANDATORY)\n",
    "# Replace with your actual email\n",
    "Entrez.email = \"motogeek17@gmail.com\" \n",
    "\n",
    "# --- Prepare Output Directories ---\n",
    "os.makedirs(\"queries\", exist_ok=True)\n",
    "os.makedirs(\"fasta\", exist_ok=True)\n",
    "\n",
    "\n",
    "# --- 1. Fetch P01349 ---\n",
    "p01349_id = \"P01349\"\n",
    "with Entrez.efetch(db=\"protein\", id=p01349_id, rettype=\"fasta\", retmode=\"text\") as handle:\n",
    "    record = handle.read()\n",
    "\n",
    "output_path_1 = \"queries/P01349.fsa\"\n",
    "with open(output_path_1, \"w\") as f:\n",
    "    f.write(record)\n",
    "print(f\"File saved: {output_path_1}\")\n",
    "\n",
    "\n",
    "# --- 2. Fetch Nurse Shark Proteins ---\n",
    "shark_ids = \"Q90523,P80049,P83981,P83982,P83983,P83977,P83984,P83985,P27950\"\n",
    "with Entrez.efetch(db=\"protein\", id=shark_ids, rettype=\"fasta\", retmode=\"text\") as handle:\n",
    "    record = handle.read()\n",
    "\n",
    "output_path_2 = \"fasta/nurse-shark-proteins.fsa\"\n",
    "with open(output_path_2, \"w\") as f:\n",
    "    f.write(record)\n",
    "print(f\"File saved: {output_path_2}\")\n",
    "\n",
    "with open(\"queries/P01349.fsa\", \"r\") as f:\n",
    "    content = f.read()\n",
    "print(content)"
   ]
  },
  {
   "cell_type": "code",
   "execution_count": null,
   "id": "dda38e40-147a-41c7-9f6c-5e0d6b54f4a3",
   "metadata": {},
   "outputs": [],
   "source": []
  }
 ],
 "metadata": {
  "kernelspec": {
   "display_name": "biopython kernel",
   "language": "python",
   "name": "myjlabenv"
  },
  "language_info": {
   "codemirror_mode": {
    "name": "ipython",
    "version": 3
   },
   "file_extension": ".py",
   "mimetype": "text/x-python",
   "name": "python",
   "nbconvert_exporter": "python",
   "pygments_lexer": "ipython3",
   "version": "3.14.0"
  }
 },
 "nbformat": 4,
 "nbformat_minor": 5
}
