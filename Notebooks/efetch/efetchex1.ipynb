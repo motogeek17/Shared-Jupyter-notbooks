{
 "cells": [
  {
   "cell_type": "code",
   "execution_count": 1,
   "id": "eb787fec-d646-4ac7-9540-95409c7f9eef",
   "metadata": {},
   "outputs": [],
   "source": [
    "import sys"
   ]
  },
  {
   "cell_type": "code",
   "execution_count": 2,
   "id": "4e6646b8-459f-452b-aca2-59979beb6971",
   "metadata": {},
   "outputs": [
    {
     "name": "stdout",
     "output_type": "stream",
     "text": [
      "blastn: 2.17.0+\n",
      " Package: blast 2.17.0, build Jul  1 2025 12:49:33\n",
      "24.7\n"
     ]
    }
   ],
   "source": [
    "!blastn -version\n",
    "!efetch -version"
   ]
  },
  {
   "cell_type": "code",
   "execution_count": 3,
   "id": "062ca84c-aeff-4c3b-8ec9-bd3ee44f4649",
   "metadata": {},
   "outputs": [],
   "source": [
    "# Run BLAST+ in current directory\n",
    "!mkdir -p blastdb queries fasta results blastdb_custom"
   ]
  },
  {
   "cell_type": "code",
   "execution_count": 4,
   "id": "0ac2f7af-a16d-4041-b12d-c5db719643b0",
   "metadata": {},
   "outputs": [],
   "source": [
    "# Retrieve sequences\n",
    "!efetch -db protein -format fasta -id P01349 > queries/P01349.fsa\n",
    "!efetch -db protein -format fasta -id Q90523,P80049,P83981,P83982,P83983,P83977,P83984,P83985,P27950 > fasta/nurse-shark-proteins.fsa"
   ]
  },
  {
   "cell_type": "code",
   "execution_count": 5,
   "id": "13378d0c-cf93-44d4-8aa0-d1fb81ec318c",
   "metadata": {},
   "outputs": [
    {
     "name": "stdout",
     "output_type": "stream",
     "text": [
      "/Users/dml/JupyterLab/blastdb_custom\n",
      "\n",
      "\n",
      "Building a new DB, current time: 10/16/2025 17:33:30\n",
      "New DB name:   /Users/dml/JupyterLab/blastdb_custom/nurse-shark-proteins\n",
      "New DB title:  Nurse shark proteins\n",
      "Sequence type: Protein\n",
      "Deleted existing Protein BLAST database named /Users/dml/JupyterLab/blastdb_custom/nurse-shark-proteins\n",
      "Keep MBits: T\n",
      "Maximum file size: 3000000000B\n",
      "Adding sequences from FASTA; added 7 sequences in 0.00218201 seconds.\n",
      "\n",
      "\n",
      "/Users/dml/JupyterLab\n",
      "BLASTP 2.17.0+\n",
      "\n",
      "\n",
      "Reference: Stephen F. Altschul, Thomas L. Madden, Alejandro A.\n",
      "Schaffer, Jinghui Zhang, Zheng Zhang, Webb Miller, and David J.\n",
      "Lipman (1997), \"Gapped BLAST and PSI-BLAST: a new generation of\n",
      "protein database search programs\", Nucleic Acids Res. 25:3389-3402.\n",
      "\n",
      "\n",
      "Reference for composition-based statistics: Alejandro A. Schaffer,\n",
      "L. Aravind, Thomas L. Madden, Sergei Shavirin, John L. Spouge, Yuri\n",
      "I. Wolf, Eugene V. Koonin, and Stephen F. Altschul (2001),\n",
      "\"Improving the accuracy of PSI-BLAST protein database searches with\n",
      "composition-based statistics and other refinements\", Nucleic Acids\n",
      "Res. 29:2994-3005.\n",
      "\n",
      "\n",
      "\n",
      "Database: Nurse shark proteins\n",
      "           7 sequences; 922 total letters\n",
      "\n",
      "\n",
      "\n",
      "Query= sp|P01349.2|RELX_CARTA RecName: Full=Relaxin; Contains: RecName:\n",
      "Full=Relaxin B chain; Contains: RecName: Full=Relaxin A chain\n",
      "\n",
      "Length=44\n",
      "                                                                      Score     E\n",
      "Sequences producing significant alignments:                          (Bits)  Value\n",
      "\n",
      "P80049.1 RecName: Full=Fatty acid-binding protein, liver; AltName...  14.2    0.96 \n",
      "\n",
      "\n",
      ">P80049.1 RecName: Full=Fatty acid-binding protein, liver; AltName: Full=Liver-type \n",
      "fatty acid-binding protein; Short=L-FABP\n",
      "Length=132\n",
      "\n",
      " Score = 14.2 bits (25),  Expect = 0.96, Method: Compositional matrix adjust.\n",
      " Identities = 3/9 (33%), Positives = 6/9 (67%), Gaps = 0/9 (0%)\n",
      "\n",
      "Query  2    LCGRGFIRA  10\n",
      "            +C R ++R \n",
      "Sbjct  123  VCTREYVRE  131\n",
      "\n",
      "\n",
      "\n",
      "Lambda      K        H        a         alpha\n",
      "   0.334    0.143    0.520    0.792     4.96 \n",
      "\n",
      "Gapped\n",
      "Lambda      K        H        a         alpha    sigma\n",
      "   0.267   0.0410    0.140     1.90     42.6     43.6 \n",
      "\n",
      "Effective search space used: 22680\n",
      "\n",
      "\n",
      "  Database: Nurse shark proteins\n",
      "    Posted date:  Oct 16, 2025  5:33 PM\n",
      "  Number of letters in database: 922\n",
      "  Number of sequences in database:  7\n",
      "\n",
      "\n",
      "\n",
      "Matrix: BLOSUM62\n",
      "Gap Penalties: Existence: 11, Extension: 1\n",
      "Neighboring words threshold: 11\n",
      "Window for multiple hits: 40\n"
     ]
    }
   ],
   "source": [
    "# Create BLAST databases and run BLAST\n",
    "%cd blastdb_custom\n",
    "!makeblastdb -in ../fasta/nurse-shark-proteins.fsa -dbtype prot -parse_seqids -out nurse-shark-proteins -title \"Nurse shark proteins\" -taxid 7801 -blastdb_version 5\n",
    "%cd ..\n",
    "!blastp -query queries/P01349.fsa -db blastdb_custom/nurse-shark-proteins"
   ]
  },
  {
   "cell_type": "code",
   "execution_count": null,
   "id": "23ae3cc6-d5d8-4959-81c4-2f26231d350c",
   "metadata": {},
   "outputs": [],
   "source": []
  }
 ],
 "metadata": {
  "kernelspec": {
   "display_name": "biopython kernel",
   "language": "python",
   "name": "myjlabenv"
  },
  "language_info": {
   "codemirror_mode": {
    "name": "ipython",
    "version": 3
   },
   "file_extension": ".py",
   "mimetype": "text/x-python",
   "name": "python",
   "nbconvert_exporter": "python",
   "pygments_lexer": "ipython3",
   "version": "3.14.0"
  }
 },
 "nbformat": 4,
 "nbformat_minor": 5
}
