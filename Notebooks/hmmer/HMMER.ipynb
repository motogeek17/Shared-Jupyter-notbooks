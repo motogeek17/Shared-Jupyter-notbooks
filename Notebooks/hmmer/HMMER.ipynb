{
 "cells": [
  {
   "cell_type": "code",
   "execution_count": 16,
   "id": "59173682-1418-477b-915c-7ea61fc78de5",
   "metadata": {},
   "outputs": [],
   "source": [
    "import sys"
   ]
  },
  {
   "cell_type": "code",
   "execution_count": 17,
   "id": "b677af52-de83-4534-8c45-eb4796a119bc",
   "metadata": {},
   "outputs": [
    {
     "name": "stdout",
     "output_type": "stream",
     "text": [
      "/Users/dml/JupyterLab\n"
     ]
    }
   ],
   "source": [
    "import os\n",
    "print(os.getcwd())"
   ]
  },
  {
   "cell_type": "code",
   "execution_count": 8,
   "id": "4c47d4fa-2d10-4f9b-a2d8-5752483593fc",
   "metadata": {},
   "outputs": [
    {
     "name": "stdout",
     "output_type": "stream",
     "text": [
      "zsh:1: no such file or directory: /hmmbuld\n",
      "zsh:1: no such file or directory: /hmmbuld\n"
     ]
    }
   ],
   "source": [
    "!/hmmbuld -h # provides brief help documentation\n",
    "!/hmmbuld globins4.hmm ../tutorial/globins4.sto"
   ]
  },
  {
   "cell_type": "code",
   "execution_count": 9,
   "id": "6838bc63-05fa-45a6-97bd-e24e71622cac",
   "metadata": {
    "scrolled": true
   },
   "outputs": [
    {
     "name": "stdout",
     "output_type": "stream",
     "text": [
      "Alignment input open failed.\n",
      "   couldn't open /Users/dml/.local/share/mamba/envs/myjlabenv/bin/hmmbuild/tutorial/globins4.sto for reading\n"
     ]
    }
   ],
   "source": [
    "# proides brief help documentation\n",
    "#!/Users/dml/.local/share/mamba/envs/myjlabenv/bin/hmmbuild -h\n",
    "!/Users/dml/.local/share/mamba/envs/myjlabenv/bin/hmmbuild globins4.hmm /Users/dml/.local/share/mamba/envs/myjlabenv/bin/hmmbuild/tutorial/globins4.sto"
   ]
  },
  {
   "cell_type": "code",
   "execution_count": 10,
   "id": "a0e15a45-ca1d-4766-b03d-cb13d0277e39",
   "metadata": {},
   "outputs": [
    {
     "name": "stdout",
     "output_type": "stream",
     "text": [
      "\u001b[31m/Users/dml/.local/share/mamba/envs/myjlabenv/bin/wget\u001b[m\u001b[m\n",
      "ls: /Users/dml/.local/share/mamba/envs/myjlabenv/bin/gunzip: No such file or directory\n"
     ]
    }
   ],
   "source": [
    "!ls /Users/dml/.local/share/mamba/envs/myjlabenv/bin/wget\n",
    "!ls /Users/dml/.local/share/mamba/envs/myjlabenv/bin/gunzip"
   ]
  },
  {
   "cell_type": "code",
   "execution_count": 11,
   "id": "91c58f6c-6492-4060-be21-51ffb8e3ec48",
   "metadata": {},
   "outputs": [
    {
     "name": "stdout",
     "output_type": "stream",
     "text": [
      "zsh:1: command not found: wget\n",
      "gunzip: can't stat: human.protein.faa.gz (human.protein.faa.gz.gz): No such file or directory\n",
      "wc: human.protein.faa: open: No such file or directory\n",
      "wc: 302761: open: No such file or directory\n",
      "wc: human.protein.faa: open: No such file or directory\n",
      "       0 total\n"
     ]
    }
   ],
   "source": [
    "!wget ftp://ftp.ncbi.nlm.nih.gov/refseq/H_sapiens/mRNA_Prot/human.protein.faa.gz\n",
    "!gunzip human.protein.faa.gz\n",
    "!wc -l human.protein.faa 302761 human.protein.faa"
   ]
  },
  {
   "cell_type": "code",
   "execution_count": 12,
   "id": "101aed05-5214-4261-8c96-f46cf5a58ed6",
   "metadata": {},
   "outputs": [
    {
     "name": "stdout",
     "output_type": "stream",
     "text": [
      "--2025-10-17 10:36:35--  ftp://ftp.ncbi.nlm.nih.gov/refseq/H_sapiens/mRNA_Prot/human.protein.faa.gz\n",
      "           => ‘human.protein.faa.gz’\n",
      "Resolving ftp.ncbi.nlm.nih.gov (ftp.ncbi.nlm.nih.gov)... 130.14.250.10, 130.14.250.11, 130.14.250.13, ...\n",
      "Connecting to ftp.ncbi.nlm.nih.gov (ftp.ncbi.nlm.nih.gov)|130.14.250.10|:21... connected.\n",
      "Logging in as anonymous ... Logged in!\n",
      "==> SYST ... done.    ==> PWD ... done.\n",
      "==> TYPE I ... done.  ==> CWD (1) /refseq/H_sapiens/mRNA_Prot ... done.\n",
      "==> SIZE human.protein.faa.gz ... done.\n",
      "\n",
      "==> PASV ... done.    ==> RETR human.protein.faa.gz ... \n",
      "No such file ‘human.protein.faa.gz’.\n",
      "\n",
      "gunzip: can't stat: human.protein.faa.gz (human.protein.faa.gz.gz): No such file or directory\n",
      "wc: human.protein.faa: open: No such file or directory\n"
     ]
    }
   ],
   "source": [
    "!/Users/dml/.local/share/mamba/envs/myjlabenv/bin/wget ftp://ftp.ncbi.nlm.nih.gov/refseq/H_sapiens/mRNA_Prot/human.protein.faa.gz ; \\\n",
    " /usr/bin/gunzip human.protein.faa.gz ; \\\n",
    " /usr/bin/wc -l human.protein.faa"
   ]
  },
  {
   "cell_type": "code",
   "execution_count": 13,
   "id": "46843d17-c452-493a-9399-0085a2cc8fdd",
   "metadata": {},
   "outputs": [
    {
     "name": "stdout",
     "output_type": "stream",
     "text": [
      "--2025-10-17 10:36:47--  ftp://ftp.ncbi.nlm.nih.gov/refseq/H_sapiens/mRNA_Prot/human.protein.faa.gz\n",
      "           => ‘human.protein.faa.gz’\n",
      "Resolving ftp.ncbi.nlm.nih.gov (ftp.ncbi.nlm.nih.gov)... 130.14.250.10, 130.14.250.11, 130.14.250.13, ...\n",
      "Connecting to ftp.ncbi.nlm.nih.gov (ftp.ncbi.nlm.nih.gov)|130.14.250.10|:21... connected.\n",
      "Logging in as anonymous ... Logged in!\n",
      "==> SYST ... done.    ==> PWD ... done.\n",
      "==> TYPE I ... done.  ==> CWD (1) /refseq/H_sapiens/mRNA_Prot ... done.\n",
      "==> SIZE human.protein.faa.gz ... done.\n",
      "\n",
      "==> PASV ... done.    ==> RETR human.protein.faa.gz ... \n",
      "No such file ‘human.protein.faa.gz’.\n",
      "\n"
     ]
    }
   ],
   "source": [
    "!/Users/dml/.local/share/mamba/envs/myjlabenv/bin/wget ftp://ftp.ncbi.nlm.nih.gov/refseq/H_sapiens/mRNA_Prot/human.protein.faa.gz"
   ]
  },
  {
   "cell_type": "code",
   "execution_count": 14,
   "id": "a604a1d6-64dd-4735-bf1f-ded162c5c4c1",
   "metadata": {},
   "outputs": [
    {
     "name": "stdout",
     "output_type": "stream",
     "text": [
      "zsh:1: no such file or directory: /hmmsearch\n"
     ]
    }
   ],
   "source": [
    "!/hmmsearch globins4.hmm human.protein.faa > globins4.out"
   ]
  },
  {
   "cell_type": "code",
   "execution_count": 15,
   "id": "c4f3b9ed-7175-4078-a819-f58df86f56db",
   "metadata": {},
   "outputs": [
    {
     "name": "stdout",
     "output_type": "stream",
     "text": [
      "/System/Volumes/Data/Users/dml/.local/share/mamba/pkgs/hmmer-3.4-ha1750f9_4\n"
     ]
    }
   ],
   "source": [
    "!find / -name \"hmmer-*\" -type d 2>/dev/null"
   ]
  },
  {
   "cell_type": "code",
   "execution_count": 16,
   "id": "8751f7bf-70a9-4788-8baa-10c82e668a78",
   "metadata": {},
   "outputs": [
    {
     "name": "stdout",
     "output_type": "stream",
     "text": [
      "\u001b[34mbin\u001b[m\u001b[m   \u001b[34minfo\u001b[m\u001b[m  \u001b[34mshare\u001b[m\u001b[m\n"
     ]
    }
   ],
   "source": [
    "!ls /Users/dml/.local/share/mamba/pkgs/hmmer-3.4-ha1750f9_4 "
   ]
  },
  {
   "cell_type": "code",
   "execution_count": 17,
   "id": "63dfada6-1267-4e4f-b67e-63038db801d3",
   "metadata": {},
   "outputs": [],
   "source": [
    "# Search your home directory for the tutorial file\n",
    "!find /Users/dml -name \"globins4.sto\" 2>/dev/null"
   ]
  },
  {
   "cell_type": "code",
   "execution_count": null,
   "id": "f0b4fd24-e665-4a12-b471-c1ba3c8c19b0",
   "metadata": {},
   "outputs": [],
   "source": []
  }
 ],
 "metadata": {
  "kernelspec": {
   "display_name": "biopython kernel",
   "language": "python",
   "name": "myjlabenv"
  },
  "language_info": {
   "codemirror_mode": {
    "name": "ipython",
    "version": 3
   },
   "file_extension": ".py",
   "mimetype": "text/x-python",
   "name": "python",
   "nbconvert_exporter": "python",
   "pygments_lexer": "ipython3",
   "version": "3.14.0"
  }
 },
 "nbformat": 4,
 "nbformat_minor": 5
}
